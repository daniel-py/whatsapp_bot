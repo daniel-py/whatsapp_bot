{
 "cells": [
  {
   "cell_type": "code",
   "execution_count": 20,
   "metadata": {},
   "outputs": [
    {
     "name": "stdout",
     "output_type": "stream",
     "text": [
      "Please input investor's name:  Mr. Orimolade Tunolase\n",
      "Please input capital invested in figures:  1600000\n"
     ]
    },
    {
     "data": {
      "application/vnd.jupyter.widget-view+json": {
       "model_id": "731c9c3031cf46de86f5124c160ed53a",
       "version_major": 2,
       "version_minor": 0
      },
      "text/plain": [
       "HBox(children=(FloatProgress(value=0.0, max=1.0), HTML(value='')))"
      ]
     },
     "metadata": {},
     "output_type": "display_data"
    }
   ],
   "source": [
    "import os\n",
    "import docx\n",
    "import datetime\n",
    "from num2words import num2words\n",
    "from dateutil.relativedelta import relativedelta\n",
    "import pandas as pd\n",
    "import openpyxl as opxl\n",
    "import numpy as np\n",
    "import matplotlib.pyplot as plt\n",
    "from docx2pdf import convert\n",
    "\n",
    "#os.chdir(\"files/\")\n",
    "doc = docx.Document('files/Template.docx')\n",
    "\n",
    "\n",
    "def comma_separate(a):\n",
    "    a = str(a)\n",
    "    i = -1\n",
    "    b = ''\n",
    "\n",
    "    length = len(a)\n",
    "    while length > 0:\n",
    "        b = ',' + ''.join(reversed(a[i:i-3:-1]))  + b\n",
    "        length -= 3\n",
    "        i -= 3\n",
    "\n",
    "    return b.strip(',')\n",
    "\n",
    "\n",
    "def get_the_date(k):\n",
    "    l = str(k)\n",
    "\n",
    "    g = l[11:13]\n",
    "\n",
    "    if g == '00':\n",
    "        time = f\"12{l[13:16]}am\"\n",
    "\n",
    "    elif  int(g)> 0 and int(g) < 12:\n",
    "        time = f\"{g}{l[13:16]}am\"\n",
    "\n",
    "    elif int(g) == 12:\n",
    "        time = f\"{g}{l[13:16]}pm\"\n",
    "\n",
    "    elif int(g)> 12:\n",
    "        h = int(g)-12\n",
    "        if h < 10:\n",
    "            h = f\"0{h}\"\n",
    "        time = f\"{h}{l[13:16]}pm\"\n",
    "    else:\n",
    "        pass\n",
    "\n",
    "    if l[5:7] == '01':\n",
    "        x = 'January'\n",
    "    elif l[5:7] == '02':\n",
    "        x = 'February'\n",
    "    elif l[5:7] == '03':\n",
    "        x = 'March'\n",
    "    elif l[5:7] == '04':\n",
    "        x = 'April'\n",
    "    elif l[5:7] == '05':\n",
    "        x = 'May'\n",
    "    elif l[5:7] == '06':\n",
    "        x = 'June'\n",
    "    elif l[5:7] == '07':\n",
    "        x = 'July'\n",
    "    elif l[5:7] == '08':\n",
    "        x = 'August'\n",
    "    elif l[5:7] == '09':\n",
    "        x = 'September'\n",
    "    elif l[5:7] == '10':\n",
    "        x = 'October'\n",
    "    elif l[5:7] == '11':\n",
    "        x = 'November'\n",
    "    elif l[5:7] == '12':\n",
    "        x = 'December'\n",
    "    else:\n",
    "        pass\n",
    "\n",
    "    if l[9] == '1':\n",
    "        y = 'st'\n",
    "    elif l[9] == '2':\n",
    "        y = 'nd'\n",
    "    elif l[9] == '3':\n",
    "        y = 'rd'\n",
    "    else:\n",
    "        y = 'th'\n",
    "\n",
    "    if l[8:10] == '11' or l[8:10] == '12' or l[8:10] == '13':\n",
    "        y = 'th'\n",
    "\n",
    "    date = f\"{l[8:10]}{y} of {x}, {l[0:4]}\"\n",
    "    \n",
    "    return (time, date)\n",
    "\n",
    "\n",
    "name = input(\"Please input investor's name:  \").upper().center(1)\n",
    "capital = input(\"Please input capital invested in figures:  \").replace(',', '')\n",
    "capital_words = str(num2words(int(capital))).replace('-', ' ').upper()\n",
    "roi = int(int(capital) * 0.2 + int(capital))\n",
    "roi_words = str(num2words(roi)).replace('-', ' ').upper()\n",
    "date = get_the_date(datetime.datetime.now())\n",
    "pay_date = get_the_date(datetime.datetime.now()+relativedelta(days = 31))\n",
    "\n",
    "\n",
    "for paragraph in doc.paragraphs:\n",
    "    for run in paragraph.runs:\n",
    "        if 'OLUREMI DANIEL YINKA' in run.text:\n",
    "            run.text = run.text.replace('MR OLUREMI DANIEL YINKA', name)\n",
    "\n",
    "        if '12th of February, 2020' in run.text:\n",
    "            run.text = run.text.replace('12th of February, 2020', date[1])\n",
    "            \n",
    "        if '12th of March, 2020' in run.text:\n",
    "            run.text = run.text.replace('12th of March, 2020', pay_date[1])\n",
    "            \n",
    "        if 'FIFTY THOUSAND NAIRA ONLY (N50,000)' in run.text:\n",
    "            run.text = run.text.replace('FIFTY THOUSAND NAIRA ONLY (N50,000)', capital_words+ f\" NAIRA ONLY (₦{comma_separate(capital)})\")\n",
    "\n",
    "        if 'SIXTY FIVE THOUSAND NAIRA ONLY (N65,000)' in run.text:\n",
    "            run.text = run.text.replace('SIXTY FIVE THOUSAND NAIRA ONLY (N65,000)', roi_words+ f\" NAIRA ONLY (₦{comma_separate(roi)})\")\n",
    "    \n",
    "    \n",
    "doc.save(f\"files/{name + ' MOU'}.docx\")\n",
    "         \n",
    "\n",
    "         \n",
    "wb = opxl.load_workbook(\"files/Database.xlsx\")\n",
    "sheet = wb['Sheet1']\n",
    "max_row = sheet.max_row\n",
    "sheet.cell(max_row+1, 1).value = 'JI-'+str(int(sheet.cell(max_row, 1).value[3:]) + 1)\n",
    "\n",
    "correction = [sheet.cell(max_row+1, 1).value, name, comma_separate(capital), \", \".join(date), \n",
    "              comma_separate(int(int(capital) * 0.2)), comma_separate(roi), pay_date[1]]\n",
    "l = 0\n",
    "for i in sheet.rows:\n",
    "    if l == max_row:\n",
    "        b = 0\n",
    "        for cell in i: \n",
    "            cell.value = correction[b]\n",
    "            b += 1\n",
    "    else:\n",
    "        l += 1\n",
    "        \n",
    "wb.save(\"files/Database.xlsx\")\n",
    "         \n",
    "convert(f\"files/{name + ' MOU'}.docx\")\n",
    "         \n",
    "#df = pd.read_csv(\"New.csv\")\n",
    "#df.loc[df.index[-1]+1] = ['JI-'+str(int(df.iloc[-1][0][3:]) + 1), name, comma_separate(capital), \n",
    "#                          \", \".join(date), comma_separate(int(int(capital) * 0.2)), comma_separate(roi), pay_date[1]]\n",
    "#df.to_csv('New.csv', index= False)\n"
   ]
  },
  {
   "cell_type": "code",
   "execution_count": 19,
   "metadata": {},
   "outputs": [
    {
     "name": "stdout",
     "output_type": "stream",
     "text": [
      "Here are a couple of things you can access:\n",
      "\n",
      "\n",
      "How many investors have I had? (Input 1)\n",
      "How much has been invested with me? (Input 2)\n",
      "How much ROI has been generated totally? (Input 3)\n",
      "Who is my biggest investor? (Input 4)\n",
      "Show me some information about amounts invested over the months (Input 5)\n",
      "Show me some information about the number of investors I've had over the months (Input 6)\n",
      "Show me some information about the ROIs generated over the months (Input 7)\n",
      "\n",
      "7\n",
      "\n",
      "\n",
      "What year do you want to check?  2020\n",
      "\n",
      "\n",
      "₦0.0 was generated in January\n",
      "₦0.0 was generated in February\n",
      "₦10,000 was generated in March\n",
      "₦0.0 was generated in April\n",
      "₦0.0 was generated in May\n",
      "₦3,416,000 was generated in June\n",
      "₦100,000 was generated in July\n",
      "₦0.0 was generated in August\n",
      "₦0.0 was generated in September\n",
      "₦0.0 was generated in October\n",
      "₦0.0 was generated in November\n",
      "₦0.0 was generated in Decemeber\n",
      "\n",
      "This image has been saved in your 'Investment_project' folder\n"
     ]
    },
    {
     "data": {
      "image/png": "[encoded data removed]",
      "text/plain": [
       "<Figure size 864x720 with 1 Axes>"
      ]
     },
     "metadata": {
      "needs_background": "light"
     },
     "output_type": "display_data"
    }
   ],
   "source": [
    "print(\"Here are a couple of things you can access:\\n\\n\")\n",
    "print(\"How many investors have I had? (Input 1)\")\n",
    "print(\"How much has been invested with me? (Input 2)\")\n",
    "print(\"How much ROI has been generated totally? (Input 3)\")\n",
    "print(\"Who is my biggest investor? (Input 4)\")\n",
    "print(\"Show me some information about amounts invested over the months (Input 5)\")\n",
    "print(\"Show me some information about the number of investors I've had over the months (Input 6)\")\n",
    "print(\"Show me some information about the ROIs generated over the months (Input 7)\\n\")\n",
    "wb = opxl.load_workbook(\"files/Database.xlsx\")\n",
    "sheet = wb['Sheet1']\n",
    "x = int(input())\n",
    "print(\"\\n\")\n",
    "\n",
    "def string_to_num(b):\n",
    "    b = str(b)\n",
    "    b = b.replace(',', '')\n",
    "    return int(b)\n",
    "\n",
    "df = pd.read_excel(\"files/Database.xlsx\", skiprows=[x for x in range(0, 8)])\n",
    "df[\"AMOUNT INVESTED(₦)\"] = df[\"AMOUNT INVESTED(₦)\"].apply(string_to_num)\n",
    "df[\"ROI DUE(₦)\"] = df[\"ROI DUE(₦)\"].apply(string_to_num)\n",
    "df[\"ROI + CAPITAL(₦)\"] = df[\"ROI + CAPITAL(₦)\"].apply(string_to_num)\n",
    "capitals = np.array(df[\"AMOUNT INVESTED(₦)\"])\n",
    "rois = np.array(df[\"ROI DUE(₦)\"])\n",
    "\n",
    "if x == 5 or x == 6 or x == 7:\n",
    "    year = input(\"What year do you want to check?  \").replace(' ', '')\n",
    "    print(\"\\n\")\n",
    "    \n",
    "    def in_a_year(a):\n",
    "        return a[-4:] == year\n",
    "          \n",
    "    a, b, c, d, e, f, g, h, i, j, k, l = ([], [], [], [], [], [], [], [], [], [], [], [])\n",
    "    \n",
    "    months = ['January', 'February', 'March', 'April', 'May', 'June', 'July', 'August', \n",
    "             'September', 'October', 'November', 'Decemeber']\n",
    "\n",
    "    lists = [a, b, c, d, e, f, g, h, i, j, k, l]\n",
    "          \n",
    "    \n",
    "\n",
    "    new_df = df[df[\"TIME INVESTED\"].apply(in_a_year)].reset_index().drop(\"index\", axis = 1)\n",
    "\n",
    "    m = 0\n",
    "    for i in new_df[\"TIME INVESTED\"]:\n",
    "        for n, o in zip(months, lists):\n",
    "            if n in i:\n",
    "                o.append(new_df.loc[m][\"AMOUNT INVESTED(₦)\"])\n",
    "        m+= 1\n",
    "\n",
    "\n",
    "    \n",
    "    a, b, c, d, e, f, g, h, i, j, k, l = ([], [], [], [], [], [], [], [], [], [], [], [])\n",
    "    \n",
    "    roilists = [a, b, c, d, e, f, g, h, i, j, k, l]\n",
    "    roi_df = df[df[\"PAY DATE\"].apply(in_a_year)].reset_index().drop(\"index\", axis = 1)\n",
    "\n",
    "    m = 0\n",
    "    for i in new_df[\"PAY DATE\"]:\n",
    "        for n, o in zip(months, roilists):\n",
    "            if n in i:\n",
    "                o.append(new_df.loc[m][\"ROI DUE(₦)\"])\n",
    "        m+= 1\n",
    "        \n",
    "        \n",
    "        \n",
    "if x == 1:\n",
    "    print(f\"You have had {sheet.cell(sheet.max_row, 1).value[3:]} investor(s)\")\n",
    "    \n",
    "elif x == 2:\n",
    "    print(f\"{num2words(capitals.sum()).title()} Naira (₦{comma_separate(capitals.sum())})\")\n",
    "\n",
    "elif x == 3:\n",
    "    print(f\"{num2words(rois.sum()).title()} Naira (₦{comma_separate(rois.sum())})\")\n",
    "    \n",
    "elif x == 4:\n",
    "    a = list(capitals)\n",
    "    index = a.index(max(a))\n",
    "    print(f\"{df.loc[index]['NAME']} with a capital of {num2words(a[index]).upper()} NAIRA (₦{comma_separate(a[index])})\")\n",
    "\n",
    "elif x == 5:      \n",
    "    for n, o in zip(months, [np.sum(x) for x in lists]):\n",
    "        print(f\"₦{comma_separate(o)} was invested in {n}\")\n",
    "\n",
    "    plt.figure(figsize = (12,10))\n",
    "    plt.bar([x[0:3] for x in months], [np.sum(x) for x in lists], color = (.5, 0, 0))\n",
    "    plt.xlabel(f\"Months of the year {year}\")\n",
    "    plt.ylabel(\"Amount invested(₦)\") \n",
    "    #plt.title(f\"Amount invested per month in the year {year}\")\n",
    "\n",
    "    plt.savefig(\"Investments_per_month.png\")\n",
    "    print(\"\\nThis image has been saved in your 'Investment_project' folder\")\n",
    "          \n",
    "elif x == 6:\n",
    "    for n, o in zip(months, lists):\n",
    "        print(f\"{len(o)} investor(s) came in {n}\")\n",
    "    \n",
    "    plt.figure(figsize = (12,10))\n",
    "    plt.xlabel(f\"Months of the year {year}\")   \n",
    "    plt.ylabel(\"Number of investors\") \n",
    "    plt.bar([x[:3] for x in months], [len(x) for x in lists], color = (0, 0, 0))\n",
    "\n",
    "    plt.savefig(\"Investors_per_month.png\")\n",
    "    print(\"\\nThis image has been saved in your 'Investment_project' folder\")\n",
    "          \n",
    "elif x == 7:\n",
    "    for n, o in zip(months, [np.sum(x) for x in roilists]):\n",
    "        print(f\"₦{comma_separate(o)} was generated in {n}\")\n",
    "\n",
    "    plt.figure(figsize = (12,10))\n",
    "    plt.bar([x[0:3] for x in months], [np.sum(x) for x in roilists], color = (0, 0, .5))\n",
    "    plt.xlabel(f\"Months of the year {year}\")\n",
    "    plt.ylabel(\"ROIs generated(₦)\") \n",
    "    #plt.title(f\"Amount generated per month in the year {year}\")\n",
    "\n",
    "    plt.savefig(\"ROI_per_month.png\")\n",
    "    print(\"\\nThis image has been saved in your 'Investment_project' folder\")"
   ]
  },
  {
   "cell_type": "code",
   "execution_count": 49,
   "metadata": {},
   "outputs": [
    {
     "data": {
      "text/plain": [
       "'+2347086643074'"
      ]
     },
     "execution_count": 49,
     "metadata": {},
     "output_type": "execute_result"
    }
   ],
   "source": [
    "data = {'investor_detail': '+2347086643074, 150000'}\n",
    "\n",
    "data['investor_detail'].split(', ')[0]"
   ]
  },
  {
   "cell_type": "code",
   "execution_count": 1,
   "metadata": {},
   "outputs": [],
   "source": [
    "a, b, c, d, e, f, g, h = ([], [], [], [], [], [], [], [])"
   ]
  },
  {
   "cell_type": "code",
   "execution_count": 3,
   "metadata": {},
   "outputs": [
    {
     "data": {
      "text/plain": [
       "list"
      ]
     },
     "execution_count": 3,
     "metadata": {},
     "output_type": "execute_result"
    }
   ],
   "source": [
    "type(a)"
   ]
  },
  {
   "cell_type": "code",
   "execution_count": 10,
   "metadata": {},
   "outputs": [],
   "source": [
    "import openpyxl as opxl"
   ]
  },
  {
   "cell_type": "code",
   "execution_count": null,
   "metadata": {},
   "outputs": [],
   "source": []
  },
  {
   "cell_type": "code",
   "execution_count": 24,
   "metadata": {},
   "outputs": [
    {
     "data": {
      "text/plain": [
       "{'source_file': <_io.BufferedReader name='files/MR. DANIEL BODAFI MOU.docx'>}"
      ]
     },
     "execution_count": 24,
     "metadata": {},
     "output_type": "execute_result"
    }
   ],
   "source": [
    "file_content"
   ]
  },
  {
   "cell_type": "code",
   "execution_count": 19,
   "metadata": {},
   "outputs": [],
   "source": [
    "#Zamzar \n",
    "\n",
    "import requests\n",
    "from requests.auth import HTTPBasicAuth\n",
    "\n",
    "api_key = 'a9681b952523296ad0d37ccd5fe7bf42a51527be'\n",
    "endpoint = \"https://sandbox.zamzar.com/v1/jobs\"\n",
    "\n",
    "source_file = \"files/MR. DANIEL BODAFI MOU.docx\"\n",
    "target_format = \"pdf\"\n",
    "\n",
    "file_content = {'source_file': open(source_file, 'rb')}\n",
    "data_content = {'target_format': target_format}\n",
    "res = requests.post(endpoint, data=data_content, files=file_content, auth=HTTPBasicAuth(api_key, ''))\n",
    "print(res.json())\n",
    "\n",
    "\n",
    "job_id = 15\n",
    "endpoint = \"https://sandbox.zamzar.com/v1/jobs/{}\".format(job_id)\n",
    "\n",
    "resp = requests.get(endpoint, auth=HTTPBasicAuth(api_key, ''))\n",
    "\n",
    "\n",
    "file_id = 3\n",
    "local_filename = 'files/MR. DANIEL BODAFI MOU.pdf'\n",
    "endpoint = \"https://sandbox.zamzar.com/v1/files/{}/content\".format(file_id)\n",
    "\n",
    "response = requests.get(endpoint, stream=True, auth=HTTPBasicAuth(api_key, ''))\n",
    "\n",
    "try:\n",
    "    with open(local_filename, 'wb') as f:\n",
    "        for chunk in response.iter_content(chunk_size=1024):\n",
    "            if chunk:\n",
    "                f.write(chunk)\n",
    "                f.flush()\n",
    "\n",
    "    print(\"File downloaded\")\n",
    "\n",
    "except IOError:\n",
    "    print(\"Error\")"
   ]
  },
  {
   "cell_type": "code",
   "execution_count": null,
   "metadata": {},
   "outputs": [],
   "source": [
    "\n"
   ]
  },
  {
   "cell_type": "code",
   "execution_count": null,
   "metadata": {},
   "outputs": [],
   "source": []
  },
  {
   "cell_type": "code",
   "execution_count": null,
   "metadata": {
    "scrolled": true
   },
   "outputs": [],
   "source": []
  },
  {
   "cell_type": "code",
   "execution_count": 9,
   "metadata": {},
   "outputs": [
    {
     "data": {
      "text/plain": [
       "'files/MR. DANIEL BODAFI MOU capi.pdf'"
      ]
     },
     "execution_count": 9,
     "metadata": {},
     "output_type": "execute_result"
    }
   ],
   "source": [
    "import convertapi\n",
    "convertapi.api_secret = 'j4Yai85q2QIC94bk'\n",
    "result = convertapi.convert('pdf', {'File': 'files/MR. DANIEL BODAFI MOU.docx'})\n",
    "result.file.save('files/MR. DANIEL BODAFI MOU capi.pdf')"
   ]
  },
  {
   "cell_type": "code",
   "execution_count": 28,
   "metadata": {
    "collapsed": true
   },
   "outputs": [
    {
     "data": {
      "text/plain": [
       "['__add__',\n",
       " '__class__',\n",
       " '__contains__',\n",
       " '__delattr__',\n",
       " '__dir__',\n",
       " '__doc__',\n",
       " '__eq__',\n",
       " '__format__',\n",
       " '__ge__',\n",
       " '__getattribute__',\n",
       " '__getitem__',\n",
       " '__getnewargs__',\n",
       " '__gt__',\n",
       " '__hash__',\n",
       " '__init__',\n",
       " '__init_subclass__',\n",
       " '__iter__',\n",
       " '__le__',\n",
       " '__len__',\n",
       " '__lt__',\n",
       " '__mod__',\n",
       " '__mul__',\n",
       " '__ne__',\n",
       " '__new__',\n",
       " '__reduce__',\n",
       " '__reduce_ex__',\n",
       " '__repr__',\n",
       " '__rmod__',\n",
       " '__rmul__',\n",
       " '__setattr__',\n",
       " '__sizeof__',\n",
       " '__str__',\n",
       " '__subclasshook__',\n",
       " 'capitalize',\n",
       " 'casefold',\n",
       " 'center',\n",
       " 'count',\n",
       " 'encode',\n",
       " 'endswith',\n",
       " 'expandtabs',\n",
       " 'find',\n",
       " 'format',\n",
       " 'format_map',\n",
       " 'index',\n",
       " 'isalnum',\n",
       " 'isalpha',\n",
       " 'isascii',\n",
       " 'isdecimal',\n",
       " 'isdigit',\n",
       " 'isidentifier',\n",
       " 'islower',\n",
       " 'isnumeric',\n",
       " 'isprintable',\n",
       " 'isspace',\n",
       " 'istitle',\n",
       " 'isupper',\n",
       " 'join',\n",
       " 'ljust',\n",
       " 'lower',\n",
       " 'lstrip',\n",
       " 'maketrans',\n",
       " 'partition',\n",
       " 'replace',\n",
       " 'rfind',\n",
       " 'rindex',\n",
       " 'rjust',\n",
       " 'rpartition',\n",
       " 'rsplit',\n",
       " 'rstrip',\n",
       " 'split',\n",
       " 'splitlines',\n",
       " 'startswith',\n",
       " 'strip',\n",
       " 'swapcase',\n",
       " 'title',\n",
       " 'translate',\n",
       " 'upper',\n",
       " 'zfill']"
      ]
     },
     "execution_count": 28,
     "metadata": {},
     "output_type": "execute_result"
    }
   ],
   "source": [
    "dir(\"i\")"
   ]
  },
  {
   "cell_type": "code",
   "execution_count": 42,
   "metadata": {},
   "outputs": [
    {
     "ename": "TwilioException",
     "evalue": "Credentials are required to create a TwilioClient",
     "output_type": "error",
     "traceback": [
      "\u001b[1;31m---------------------------------------------------------------------------\u001b[0m",
      "\u001b[1;31mTwilioException\u001b[0m                           Traceback (most recent call last)",
      "\u001b[1;32m<ipython-input-42-386ff92e6fd3>\u001b[0m in \u001b[0;36m<module>\u001b[1;34m\u001b[0m\n\u001b[0;32m      4\u001b[0m \u001b[1;33m\u001b[0m\u001b[0m\n\u001b[0;32m      5\u001b[0m \u001b[1;32mfrom\u001b[0m \u001b[0mtwilio\u001b[0m\u001b[1;33m.\u001b[0m\u001b[0mrest\u001b[0m \u001b[1;32mimport\u001b[0m \u001b[0mClient\u001b[0m\u001b[1;33m\u001b[0m\u001b[1;33m\u001b[0m\u001b[0m\n\u001b[1;32m----> 6\u001b[1;33m \u001b[0mclient\u001b[0m \u001b[1;33m=\u001b[0m \u001b[0mClient\u001b[0m\u001b[1;33m(\u001b[0m\u001b[1;33m)\u001b[0m\u001b[1;33m\u001b[0m\u001b[1;33m\u001b[0m\u001b[0m\n\u001b[0m\u001b[0;32m      7\u001b[0m \u001b[1;33m\u001b[0m\u001b[0m\n\u001b[0;32m      8\u001b[0m \u001b[0mfromm\u001b[0m \u001b[1;33m=\u001b[0m \u001b[1;34m'whatsapp:+14155238886'\u001b[0m\u001b[1;33m\u001b[0m\u001b[1;33m\u001b[0m\u001b[0m\n",
      "\u001b[1;32m~\\Anaconda3\\lib\\site-packages\\twilio\\rest\\__init__.py\u001b[0m in \u001b[0;36m__init__\u001b[1;34m(self, username, password, account_sid, region, http_client, environment, edge)\u001b[0m\n\u001b[0;32m     52\u001b[0m \u001b[1;33m\u001b[0m\u001b[0m\n\u001b[0;32m     53\u001b[0m         \u001b[1;32mif\u001b[0m \u001b[1;32mnot\u001b[0m \u001b[0mself\u001b[0m\u001b[1;33m.\u001b[0m\u001b[0musername\u001b[0m \u001b[1;32mor\u001b[0m \u001b[1;32mnot\u001b[0m \u001b[0mself\u001b[0m\u001b[1;33m.\u001b[0m\u001b[0mpassword\u001b[0m\u001b[1;33m:\u001b[0m\u001b[1;33m\u001b[0m\u001b[1;33m\u001b[0m\u001b[0m\n\u001b[1;32m---> 54\u001b[1;33m             \u001b[1;32mraise\u001b[0m \u001b[0mTwilioException\u001b[0m\u001b[1;33m(\u001b[0m\u001b[1;34m\"Credentials are required to create a TwilioClient\"\u001b[0m\u001b[1;33m)\u001b[0m\u001b[1;33m\u001b[0m\u001b[1;33m\u001b[0m\u001b[0m\n\u001b[0m\u001b[0;32m     55\u001b[0m \u001b[1;33m\u001b[0m\u001b[0m\n\u001b[0;32m     56\u001b[0m         \u001b[0mself\u001b[0m\u001b[1;33m.\u001b[0m\u001b[0mauth\u001b[0m \u001b[1;33m=\u001b[0m \u001b[1;33m(\u001b[0m\u001b[0mself\u001b[0m\u001b[1;33m.\u001b[0m\u001b[0musername\u001b[0m\u001b[1;33m,\u001b[0m \u001b[0mself\u001b[0m\u001b[1;33m.\u001b[0m\u001b[0mpassword\u001b[0m\u001b[1;33m)\u001b[0m\u001b[1;33m\u001b[0m\u001b[1;33m\u001b[0m\u001b[0m\n",
      "\u001b[1;31mTwilioException\u001b[0m: Credentials are required to create a TwilioClient"
     ]
    }
   ],
   "source": [
    "#export TWILIO_ACCOUNT_SID = 'ACbad3bf98ea7d52112b152e8d8222efb4'\n",
    "#export TWILIO_AUTH_TOKEN = 'b8866b872d2950e651fadc1426463b5c'\n",
    "\n",
    "\n",
    "from twilio.rest import Client\n",
    "client = Client()()\n",
    "\n",
    "fromm = 'whatsapp:+14155238886'\n",
    "to = 'whatsapp:+2347086643074'\n",
    "\n",
    "client.messages.create(body = \"Hello. Your payment has been approved.\", from_ = fromm, to = to)\n"
   ]
  },
  {
   "cell_type": "code",
   "execution_count": null,
   "metadata": {},
   "outputs": [],
   "source": [
    "if os.path.isfile(\"files/approved_investor.json\") and os.stat(\"files/approved_investor.json\").st_size != 0:\n",
    "    old_file = open(\"files/approved_investor.json\", \"r+\")\n",
    "    data = json.loads(old_file.read())\n",
    "    data['investor_detail'] = input(\"The investor details please \")\n",
    "else:\n",
    "    old_file = open(\"files/approved_investor.json\", \"w+\")\n",
    "    data = {'investor_detail': '+2347086643074, 150000'}\n",
    "    \n",
    "old_file.seek(0)\n",
    "old_file.write(json.dumps(data))\n"
   ]
  },
  {
   "cell_type": "code",
   "execution_count": 51,
   "metadata": {},
   "outputs": [
    {
     "ename": "NameError",
     "evalue": "name 'close' is not defined",
     "output_type": "error",
     "traceback": [
      "\u001b[1;31m---------------------------------------------------------------------------\u001b[0m",
      "\u001b[1;31mNameError\u001b[0m                                 Traceback (most recent call last)",
      "\u001b[1;32m<ipython-input-51-3bad26a8a694>\u001b[0m in \u001b[0;36m<module>\u001b[1;34m\u001b[0m\n\u001b[1;32m----> 1\u001b[1;33m \u001b[0mclose\u001b[0m\u001b[1;33m(\u001b[0m\u001b[1;34m\"files/approved_investor.json\"\u001b[0m\u001b[1;33m)\u001b[0m\u001b[1;33m\u001b[0m\u001b[1;33m\u001b[0m\u001b[0m\n\u001b[0m",
      "\u001b[1;31mNameError\u001b[0m: name 'close' is not defined"
     ]
    }
   ],
   "source": [
    "close(\"files/approved_investor.json\")"
   ]
  },
  {
   "cell_type": "code",
   "execution_count": null,
   "metadata": {},
   "outputs": [],
   "source": []
  },
  {
   "cell_type": "code",
   "execution_count": null,
   "metadata": {},
   "outputs": [],
   "source": []
  },
  {
   "cell_type": "code",
   "execution_count": null,
   "metadata": {},
   "outputs": [],
   "source": []
  },
  {
   "cell_type": "code",
   "execution_count": null,
   "metadata": {},
   "outputs": [],
   "source": []
  },
  {
   "cell_type": "code",
   "execution_count": null,
   "metadata": {},
   "outputs": [],
   "source": []
  },
  {
   "cell_type": "code",
   "execution_count": null,
   "metadata": {},
   "outputs": [],
   "source": []
  }
 ],
 "metadata": {
  "kernelspec": {
   "display_name": "Python 3",
   "language": "python",
   "name": "python3"
  },
  "language_info": {
   "codemirror_mode": {
    "name": "ipython",
    "version": 3
   },
   "file_extension": ".py",
   "mimetype": "text/x-python",
   "name": "python",
   "nbconvert_exporter": "python",
   "pygments_lexer": "ipython3",
   "version": "3.7.1"
  }
 },
 "nbformat": 4,
 "nbformat_minor": 2
}
